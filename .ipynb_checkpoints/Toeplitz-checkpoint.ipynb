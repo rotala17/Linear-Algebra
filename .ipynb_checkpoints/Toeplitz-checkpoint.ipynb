{
 "cells": [
  {
   "cell_type": "markdown",
   "metadata": {},
   "source": [
    "左右または上下を反転させる行列Jの作用をベクトルからベクトルへの関数として実装"
   ]
  },
  {
   "cell_type": "code",
   "execution_count": 1,
   "metadata": {
    "collapsed": false
   },
   "outputs": [
    {
     "data": {
      "text/plain": [
       "J (generic function with 1 method)"
      ]
     },
     "execution_count": 1,
     "metadata": {},
     "output_type": "execute_result"
    }
   ],
   "source": [
    "function J(y)\n",
    "    n=length(y)\n",
    "    Jy = Vector{eltype(y)}(n)\n",
    "    for i=1:n\n",
    "        Jy[i] = y[n-i+1]\n",
    "    end\n",
    "    return Jy\n",
    "end"
   ]
  },
  {
   "cell_type": "markdown",
   "metadata": {},
   "source": [
    "行列積は行列になるが、双対なベクトルをかけるとスカラーになる"
   ]
  },
  {
   "cell_type": "code",
   "execution_count": 2,
   "metadata": {
    "collapsed": false
   },
   "outputs": [
    {
     "data": {
      "text/plain": [
       "1×1 Array{Int64,2}:\n",
       " 18"
      ]
     },
     "execution_count": 2,
     "metadata": {},
     "output_type": "execute_result"
    }
   ],
   "source": [
    "[2 3] * [3 4]'"
   ]
  },
  {
   "cell_type": "code",
   "execution_count": 3,
   "metadata": {
    "collapsed": false
   },
   "outputs": [
    {
     "data": {
      "text/plain": [
       "18"
      ]
     },
     "execution_count": 3,
     "metadata": {},
     "output_type": "execute_result"
    }
   ],
   "source": [
    "[2, 3]' * [3,4]"
   ]
  },
  {
   "cell_type": "code",
   "execution_count": 4,
   "metadata": {
    "collapsed": false
   },
   "outputs": [
    {
     "data": {
      "text/plain": [
       "Int64"
      ]
     },
     "execution_count": 4,
     "metadata": {},
     "output_type": "execute_result"
    }
   ],
   "source": [
    "typeof([1]'*[1])"
   ]
  },
  {
   "cell_type": "code",
   "execution_count": 5,
   "metadata": {
    "collapsed": false
   },
   "outputs": [
    {
     "data": {
      "text/plain": [
       "Durbin (generic function with 1 method)"
      ]
     },
     "execution_count": 5,
     "metadata": {},
     "output_type": "execute_result"
    }
   ],
   "source": [
    "function Durbin(T)\n",
    "    t = eltype(T)\n",
    "    n = length(T)-1\n",
    "    y0 = [T[2]/T[1]]\n",
    "    for k = 1:(n-1)\n",
    "        y1 = zeros(k+1)\n",
    "        y1[k+1] = (T[k+2] - T[2:k+1]' * J(y0))/ (T[1] - T[2:k+1]' * y0)\n",
    "        y1[1:k] = y0 - y1[k+1] * J(y0)\n",
    "        y0 = y1\n",
    "    end\n",
    "    return y0\n",
    "end"
   ]
  },
  {
   "cell_type": "code",
   "execution_count": 22,
   "metadata": {
    "collapsed": false
   },
   "outputs": [
    {
     "data": {
      "text/plain": [
       "Levinson (generic function with 1 method)"
      ]
     },
     "execution_count": 22,
     "metadata": {},
     "output_type": "execute_result"
    }
   ],
   "source": [
    "function Levinson(T,b)\n",
    "    n = length(T)-1\n",
    "    r = T[2:n+1]\n",
    "    u0 = [b[1]/T[1]]\n",
    "    for k=1:(n-1)\n",
    "        y = Durbin(T[1:k+1])\n",
    "        u1 = zeros(k+1)\n",
    "        u1[k+1] = (b[k+1] - r[1:k]' * J(u0)) / (T[1] - r[1:k]' * y)\n",
    "        u1[1:k] = u0 - u1[k+1] * J(y)\n",
    "        u0 = u1\n",
    "    end\n",
    "    return u0\n",
    "end"
   ]
  },
  {
   "cell_type": "code",
   "execution_count": null,
   "metadata": {
    "collapsed": true
   },
   "outputs": [],
   "source": [
    "function Trench(T)\n",
    "    n = length(T)-1\n",
    "    Tinv = Array{float64}(n,n)\n",
    "    y = Durbin(T)\n",
    "    r = T[2:n+1]\n",
    "    μ = 1/(τ-r[1:k']*y)\n",
    "    v = -μ*J(y)\n",
    "    Tinv[1:n-1,n] = v\n",
    "    Tinv[n,1:n-1] = v\n",
    "    Tinv[n,n] = v\n",
    "    Tinv[:,1] = J(Tinv[:,n])\n",
    "    Tinv[1,:] = J(Tinv[n,:])\n",
    "    "
   ]
  },
  {
   "cell_type": "code",
   "execution_count": 6,
   "metadata": {
    "collapsed": false,
    "scrolled": true
   },
   "outputs": [
    {
     "data": {
      "text/plain": [
       "T2Ab (generic function with 1 method)"
      ]
     },
     "execution_count": 6,
     "metadata": {},
     "output_type": "execute_result"
    }
   ],
   "source": [
    "function T2Ab(T)\n",
    "    n = length(T)-1\n",
    "    A = Array{eltype(T)}(n,n)\n",
    "    for i = 1:n\n",
    "        for j = 1:n\n",
    "            A[i,j] = T[abs(i-j)+1]\n",
    "        end\n",
    "    end\n",
    "    b = T[2:n+1]\n",
    "    return A,b\n",
    "end"
   ]
  },
  {
   "cell_type": "code",
   "execution_count": 24,
   "metadata": {
    "collapsed": false
   },
   "outputs": [],
   "source": [
    "T = [1,2,3,4,5]\n",
    "A,b = T2Ab(T);"
   ]
  },
  {
   "cell_type": "code",
   "execution_count": 8,
   "metadata": {
    "collapsed": false,
    "scrolled": false
   },
   "outputs": [
    {
     "data": {
      "text/plain": [
       "4×4 Array{Int64,2}:\n",
       " 1  2  3  4\n",
       " 2  1  2  3\n",
       " 3  2  1  2\n",
       " 4  3  2  1"
      ]
     },
     "execution_count": 8,
     "metadata": {},
     "output_type": "execute_result"
    }
   ],
   "source": [
    "A"
   ]
  },
  {
   "cell_type": "code",
   "execution_count": 9,
   "metadata": {
    "collapsed": false,
    "scrolled": true
   },
   "outputs": [
    {
     "data": {
      "text/plain": [
       "4-element Array{Int64,1}:\n",
       " 2\n",
       " 3\n",
       " 4\n",
       " 5"
      ]
     },
     "execution_count": 9,
     "metadata": {},
     "output_type": "execute_result"
    }
   ],
   "source": [
    "b"
   ]
  },
  {
   "cell_type": "code",
   "execution_count": 10,
   "metadata": {
    "collapsed": false
   },
   "outputs": [],
   "source": [
    "using BenchmarkTools"
   ]
  },
  {
   "cell_type": "code",
   "execution_count": 11,
   "metadata": {
    "collapsed": false,
    "scrolled": false
   },
   "outputs": [
    {
     "data": {
      "text/plain": [
       "4-element Array{Float64,1}:\n",
       "  1.2        \n",
       " -8.88178e-17\n",
       " -4.44089e-16\n",
       "  0.2        "
      ]
     },
     "execution_count": 11,
     "metadata": {},
     "output_type": "execute_result"
    }
   ],
   "source": [
    "Durbin(T) #Durbinの解法"
   ]
  },
  {
   "cell_type": "code",
   "execution_count": 12,
   "metadata": {
    "collapsed": false,
    "scrolled": false
   },
   "outputs": [
    {
     "data": {
      "text/plain": [
       "4-element Array{Float64,1}:\n",
       "  1.2        \n",
       "  5.55112e-17\n",
       " -4.16334e-17\n",
       "  0.2        "
      ]
     },
     "execution_count": 12,
     "metadata": {},
     "output_type": "execute_result"
    }
   ],
   "source": [
    "A \\ b #built-in"
   ]
  },
  {
   "cell_type": "code",
   "execution_count": 13,
   "metadata": {
    "collapsed": false
   },
   "outputs": [
    {
     "data": {
      "text/plain": [
       "([0.198231 0.994168 … 0.788336 0.303988; 0.994168 0.198231 … 0.556599 0.788336; … ; 0.788336 0.556599 … 0.198231 0.994168; 0.303988 0.788336 … 0.994168 0.198231], [0.994168, 0.219243, 0.416845, 0.777861, 0.263206, 0.622764, 0.871123, 0.574871, 0.170267, 0.366087  …  0.784387, 0.0475305, 0.570837, 0.374071, 0.865201, 0.163185, 0.556599, 0.788336, 0.303988, 0.263036])"
      ]
     },
     "execution_count": 13,
     "metadata": {},
     "output_type": "execute_result"
    }
   ],
   "source": [
    "T = rand(10000)\n",
    "A,b = T2Ab(T)"
   ]
  },
  {
   "cell_type": "code",
   "execution_count": 14,
   "metadata": {
    "collapsed": false
   },
   "outputs": [
    {
     "data": {
      "text/plain": [
       "BenchmarkTools.Trial: \n",
       "  memory estimate:  2.61 GiB\n",
       "  allocs estimate:  125639\n",
       "  --------------\n",
       "  minimum time:     634.234 ms (14.09% GC)\n",
       "  median time:      644.666 ms (14.18% GC)\n",
       "  mean time:        649.810 ms (14.11% GC)\n",
       "  maximum time:     674.702 ms (14.02% GC)\n",
       "  --------------\n",
       "  samples:          8\n",
       "  evals/sample:     1"
      ]
     },
     "execution_count": 14,
     "metadata": {},
     "output_type": "execute_result"
    }
   ],
   "source": [
    "@benchmark Durbin(T)"
   ]
  },
  {
   "cell_type": "code",
   "execution_count": 15,
   "metadata": {
    "collapsed": false,
    "scrolled": true
   },
   "outputs": [
    {
     "data": {
      "text/plain": [
       "BenchmarkTools.Trial: \n",
       "  memory estimate:  762.94 MiB\n",
       "  allocs estimate:  10\n",
       "  --------------\n",
       "  minimum time:     17.782 s (0.07% GC)\n",
       "  median time:      17.782 s (0.07% GC)\n",
       "  mean time:        17.782 s (0.07% GC)\n",
       "  maximum time:     17.782 s (0.07% GC)\n",
       "  --------------\n",
       "  samples:          1\n",
       "  evals/sample:     1"
      ]
     },
     "execution_count": 15,
     "metadata": {},
     "output_type": "execute_result"
    }
   ],
   "source": [
    "@benchmark A \\ b"
   ]
  },
  {
   "cell_type": "code",
   "execution_count": 35,
   "metadata": {
    "collapsed": true
   },
   "outputs": [
    {
     "data": {
      "text/plain": [
       "9999-element Array{Float64,1}:\n",
       " 0.125509 \n",
       " 0.414344 \n",
       " 0.468819 \n",
       " 0.920057 \n",
       " 0.630179 \n",
       " 0.844616 \n",
       " 0.0923435\n",
       " 0.990935 \n",
       " 0.617321 \n",
       " 0.971947 \n",
       " 0.92809  \n",
       " 0.648107 \n",
       " 0.75163  \n",
       " ⋮        \n",
       " 0.155405 \n",
       " 0.674783 \n",
       " 0.885988 \n",
       " 0.930114 \n",
       " 0.653436 \n",
       " 0.417376 \n",
       " 0.780981 \n",
       " 0.336823 \n",
       " 0.0990772\n",
       " 0.0696222\n",
       " 0.96354  \n",
       " 0.721865 "
      ]
     },
     "execution_count": 35,
     "metadata": {},
     "output_type": "execute_result"
    }
   ],
   "source": [
    "T = rand(10000)\n",
    "A,_ = T2Ab(T)\n",
    "b = rand(9999)"
   ]
  },
  {
   "cell_type": "code",
   "execution_count": null,
   "metadata": {
    "collapsed": true
   },
   "outputs": [],
   "source": []
  }
 ],
 "metadata": {
  "kernelspec": {
   "display_name": "Julia 0.6.2",
   "language": "julia",
   "name": "julia-0.6"
  },
  "language_info": {
   "file_extension": ".jl",
   "mimetype": "application/julia",
   "name": "julia",
   "version": "0.6.2"
  }
 },
 "nbformat": 4,
 "nbformat_minor": 2
}
