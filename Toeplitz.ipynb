{
 "cells": [
  {
   "cell_type": "markdown",
   "metadata": {},
   "source": [
    "左右または上下を反転させる行列Jの作用をベクトルからベクトルへの関数として実装"
   ]
  },
  {
   "cell_type": "code",
   "execution_count": 8,
   "metadata": {
    "collapsed": false
   },
   "outputs": [
    {
     "data": {
      "text/plain": [
       "J (generic function with 1 method)"
      ]
     },
     "execution_count": 8,
     "metadata": {},
     "output_type": "execute_result"
    }
   ],
   "source": [
    "function J(y)\n",
    "    n=length(y)\n",
    "    Jy = Vector{eltype(y)}(n)\n",
    "    for i=1:n\n",
    "        Jy[i] = y[n-i+1]\n",
    "    end\n",
    "    return Jy\n",
    "end"
   ]
  },
  {
   "cell_type": "markdown",
   "metadata": {},
   "source": [
    "行列積は行列になるが、双対なベクトルをかけるとスカラーになる"
   ]
  },
  {
   "cell_type": "code",
   "execution_count": 28,
   "metadata": {
    "collapsed": false
   },
   "outputs": [
    {
     "data": {
      "text/plain": [
       "1×1 Array{Int64,2}:\n",
       " 18"
      ]
     },
     "execution_count": 28,
     "metadata": {},
     "output_type": "execute_result"
    }
   ],
   "source": [
    "[2 3] * [3 4]'"
   ]
  },
  {
   "cell_type": "code",
   "execution_count": 29,
   "metadata": {
    "collapsed": false
   },
   "outputs": [
    {
     "data": {
      "text/plain": [
       "18"
      ]
     },
     "execution_count": 29,
     "metadata": {},
     "output_type": "execute_result"
    }
   ],
   "source": [
    "[2, 3]' * [3,4]"
   ]
  },
  {
   "cell_type": "code",
   "execution_count": 24,
   "metadata": {
    "collapsed": false
   },
   "outputs": [
    {
     "data": {
      "text/plain": [
       "Int64"
      ]
     },
     "execution_count": 24,
     "metadata": {},
     "output_type": "execute_result"
    }
   ],
   "source": [
    "typeof([1]'*[1])"
   ]
  },
  {
   "cell_type": "code",
   "execution_count": 48,
   "metadata": {
    "collapsed": false
   },
   "outputs": [
    {
     "data": {
      "text/plain": [
       "Durbin (generic function with 1 method)"
      ]
     },
     "execution_count": 48,
     "metadata": {},
     "output_type": "execute_result"
    }
   ],
   "source": [
    "function Durbin(T)\n",
    "    t = eltype(T)\n",
    "    n = length(T)-1\n",
    "    y0 = [T[2]/T[1]]\n",
    "    for k = 1:(n-1)\n",
    "        y1 = zeros(k+1)\n",
    "        y1[k+1] = (T[k+2] - T[2:k+1]' * J(y0))/ (T[1] - T[2:k+1]' * y0)\n",
    "        y1[1:k] = y0 - y1[k+1] * J(y0)\n",
    "        y0 = y1\n",
    "    end\n",
    "    return y0\n",
    "end"
   ]
  },
  {
   "cell_type": "code",
   "execution_count": 43,
   "metadata": {
    "collapsed": false
   },
   "outputs": [
    {
     "data": {
      "text/plain": [
       "T2Ab (generic function with 1 method)"
      ]
     },
     "execution_count": 43,
     "metadata": {},
     "output_type": "execute_result"
    }
   ],
   "source": [
    "function T2Ab(T)\n",
    "    n = length(T)-1\n",
    "    A = Array{eltype(T)}(n,n)\n",
    "    for i = 1:n\n",
    "        for j = 1:n\n",
    "            A[i,j] = T[abs(i-j)+1]\n",
    "        end\n",
    "    end\n",
    "    b = T[2:n+1]\n",
    "    return A,b\n",
    "end"
   ]
  },
  {
   "cell_type": "code",
   "execution_count": 69,
   "metadata": {
    "collapsed": false
   },
   "outputs": [],
   "source": [
    "T = [1,2,3,4,5]\n",
    "A,b = T2Ab(T);"
   ]
  },
  {
   "cell_type": "code",
   "execution_count": 70,
   "metadata": {
    "collapsed": false
   },
   "outputs": [
    {
     "data": {
      "text/plain": [
       "4×4 Array{Int64,2}:\n",
       " 1  2  3  4\n",
       " 2  1  2  3\n",
       " 3  2  1  2\n",
       " 4  3  2  1"
      ]
     },
     "execution_count": 70,
     "metadata": {},
     "output_type": "execute_result"
    }
   ],
   "source": [
    "A"
   ]
  },
  {
   "cell_type": "code",
   "execution_count": 71,
   "metadata": {
    "collapsed": false,
    "scrolled": true
   },
   "outputs": [
    {
     "data": {
      "text/plain": [
       "4-element Array{Int64,1}:\n",
       " 2\n",
       " 3\n",
       " 4\n",
       " 5"
      ]
     },
     "execution_count": 71,
     "metadata": {},
     "output_type": "execute_result"
    }
   ],
   "source": [
    "b"
   ]
  },
  {
   "cell_type": "code",
   "execution_count": 59,
   "metadata": {
    "collapsed": false
   },
   "outputs": [],
   "source": [
    "using BenchmarkTools"
   ]
  },
  {
   "cell_type": "code",
   "execution_count": 74,
   "metadata": {
    "collapsed": false
   },
   "outputs": [
    {
     "data": {
      "text/plain": [
       "4-element Array{Float64,1}:\n",
       "  1.2        \n",
       " -8.88178e-17\n",
       " -4.44089e-16\n",
       "  0.2        "
      ]
     },
     "execution_count": 74,
     "metadata": {},
     "output_type": "execute_result"
    }
   ],
   "source": [
    "Durbin(T) #Durbinの解法"
   ]
  },
  {
   "cell_type": "code",
   "execution_count": 73,
   "metadata": {
    "collapsed": false,
    "scrolled": true
   },
   "outputs": [
    {
     "data": {
      "text/plain": [
       "4-element Array{Float64,1}:\n",
       "  1.2        \n",
       "  5.55112e-17\n",
       " -4.16334e-17\n",
       "  0.2        "
      ]
     },
     "execution_count": 73,
     "metadata": {},
     "output_type": "execute_result"
    }
   ],
   "source": [
    "A \\ b #built-in"
   ]
  },
  {
   "cell_type": "code",
   "execution_count": 75,
   "metadata": {
    "collapsed": false
   },
   "outputs": [
    {
     "data": {
      "text/plain": [
       "([0.495206 0.750491 … 0.105738 0.764003; 0.750491 0.495206 … 0.41961 0.105738; … ; 0.105738 0.41961 … 0.495206 0.750491; 0.764003 0.105738 … 0.750491 0.495206], [0.750491, 0.250083, 0.0117449, 0.851139, 0.967589, 0.105063, 0.638572, 0.883438, 0.598623, 0.566644  …  0.533018, 0.45777, 0.544853, 0.65462, 0.282414, 0.556541, 0.41961, 0.105738, 0.764003, 0.871173])"
      ]
     },
     "execution_count": 75,
     "metadata": {},
     "output_type": "execute_result"
    }
   ],
   "source": [
    "T = rand(10000)\n",
    "A,b = T2Ab(T)"
   ]
  },
  {
   "cell_type": "code",
   "execution_count": 76,
   "metadata": {
    "collapsed": false
   },
   "outputs": [
    {
     "data": {
      "text/plain": [
       "BenchmarkTools.Trial: \n",
       "  memory estimate:  2.61 GiB\n",
       "  allocs estimate:  125639\n",
       "  --------------\n",
       "  minimum time:     539.192 ms (16.07% GC)\n",
       "  median time:      541.231 ms (16.07% GC)\n",
       "  mean time:        541.774 ms (16.10% GC)\n",
       "  maximum time:     545.703 ms (16.21% GC)\n",
       "  --------------\n",
       "  samples:          10\n",
       "  evals/sample:     1"
      ]
     },
     "execution_count": 76,
     "metadata": {},
     "output_type": "execute_result"
    }
   ],
   "source": [
    "@benchmark Durbin(T)"
   ]
  },
  {
   "cell_type": "code",
   "execution_count": 77,
   "metadata": {
    "collapsed": false
   },
   "outputs": [
    {
     "data": {
      "text/plain": [
       "BenchmarkTools.Trial: \n",
       "  memory estimate:  762.94 MiB\n",
       "  allocs estimate:  10\n",
       "  --------------\n",
       "  minimum time:     7.957 s (0.10% GC)\n",
       "  median time:      7.957 s (0.10% GC)\n",
       "  mean time:        7.957 s (0.10% GC)\n",
       "  maximum time:     7.957 s (0.10% GC)\n",
       "  --------------\n",
       "  samples:          1\n",
       "  evals/sample:     1"
      ]
     },
     "execution_count": 77,
     "metadata": {},
     "output_type": "execute_result"
    }
   ],
   "source": [
    "@benchmark A \\ b"
   ]
  }
 ],
 "metadata": {
  "kernelspec": {
   "display_name": "Julia 0.6.2",
   "language": "julia",
   "name": "julia-0.6"
  },
  "language_info": {
   "file_extension": ".jl",
   "mimetype": "application/julia",
   "name": "julia",
   "version": "0.6.2"
  }
 },
 "nbformat": 4,
 "nbformat_minor": 2
}
